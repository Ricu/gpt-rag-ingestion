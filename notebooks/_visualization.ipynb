{
 "cells": [
  {
   "cell_type": "code",
   "execution_count": 1,
   "id": "fbef6f8e",
   "metadata": {},
   "outputs": [
    {
     "name": "stdout",
     "output_type": "stream",
     "text": [
      "Loaded 32 chunks from c:\\code\\advais\\gpt-rag-ingestion\\debug_outputs\\023149_6306-X2OMNIInstructionManual.pdf_raw_chunks.json\n"
     ]
    }
   ],
   "source": [
    "from pathlib import Path\n",
    "import json\n",
    "project_root_path = Path().cwd() / \"023149_6306-X2OMNIInstructionManual.pdf_raw_chunks.json\"\n",
    "\n",
    "with project_root_path.open(\"r\", encoding=\"utf-8\") as f:\n",
    "    chunk_list = json.load(f)\n",
    "\n",
    "print(f\"Loaded {len(chunk_list)} chunks from {project_root_path}\")"
   ]
  },
  {
   "cell_type": "code",
   "execution_count": 3,
   "id": "7999df70",
   "metadata": {},
   "outputs": [
    {
     "ename": "ValueError",
     "evalue": "Error: Chunks must have 'text', 'start_index', and 'end_index' attributes for automatic text reconstruction.",
     "output_type": "error",
     "traceback": [
      "\u001b[31m---------------------------------------------------------------------------\u001b[39m",
      "\u001b[31mAttributeError\u001b[39m                            Traceback (most recent call last)",
      "\u001b[36mFile \u001b[39m\u001b[32mc:\\code\\advais\\gpt-rag-ingestion\\.venv\\Lib\\site-packages\\chonkie\\utils\\viz.py:253\u001b[39m, in \u001b[36mVisualizer.print\u001b[39m\u001b[34m(self, chunks, full_text)\u001b[39m\n\u001b[32m    252\u001b[39m \u001b[38;5;28;01mtry\u001b[39;00m:\n\u001b[32m--> \u001b[39m\u001b[32m253\u001b[39m     full_text = \u001b[38;5;28;43mself\u001b[39;49m\u001b[43m.\u001b[49m\u001b[43m_reconstruct_text_from_chunks\u001b[49m\u001b[43m(\u001b[49m\u001b[43mchunks\u001b[49m\u001b[43m)\u001b[49m\n\u001b[32m    254\u001b[39m \u001b[38;5;28;01mexcept\u001b[39;00m \u001b[38;5;167;01mAttributeError\u001b[39;00m:\n",
      "\u001b[36mFile \u001b[39m\u001b[32mc:\\code\\advais\\gpt-rag-ingestion\\.venv\\Lib\\site-packages\\chonkie\\utils\\viz.py:201\u001b[39m, in \u001b[36mVisualizer._reconstruct_text_from_chunks\u001b[39m\u001b[34m(self, chunks)\u001b[39m\n\u001b[32m    200\u001b[39m \u001b[38;5;66;03m# Sort chunks by start_index to handle overlaps correctly\u001b[39;00m\n\u001b[32m--> \u001b[39m\u001b[32m201\u001b[39m sorted_chunks = \u001b[38;5;28;43msorted\u001b[39;49m\u001b[43m(\u001b[49m\u001b[43mchunks\u001b[49m\u001b[43m,\u001b[49m\u001b[43m \u001b[49m\u001b[43mkey\u001b[49m\u001b[43m=\u001b[49m\u001b[38;5;28;43;01mlambda\u001b[39;49;00m\u001b[43m \u001b[49m\u001b[43mx\u001b[49m\u001b[43m:\u001b[49m\u001b[43m \u001b[49m\u001b[43mx\u001b[49m\u001b[43m.\u001b[49m\u001b[43mstart_index\u001b[49m\u001b[43m)\u001b[49m\n\u001b[32m    203\u001b[39m \u001b[38;5;66;03m# Check if chunks have the required attributes\u001b[39;00m\n",
      "\u001b[36mFile \u001b[39m\u001b[32mc:\\code\\advais\\gpt-rag-ingestion\\.venv\\Lib\\site-packages\\chonkie\\utils\\viz.py:201\u001b[39m, in \u001b[36mVisualizer._reconstruct_text_from_chunks.<locals>.<lambda>\u001b[39m\u001b[34m(x)\u001b[39m\n\u001b[32m    200\u001b[39m \u001b[38;5;66;03m# Sort chunks by start_index to handle overlaps correctly\u001b[39;00m\n\u001b[32m--> \u001b[39m\u001b[32m201\u001b[39m sorted_chunks = \u001b[38;5;28msorted\u001b[39m(chunks, key=\u001b[38;5;28;01mlambda\u001b[39;00m x: \u001b[43mx\u001b[49m\u001b[43m.\u001b[49m\u001b[43mstart_index\u001b[49m)\n\u001b[32m    203\u001b[39m \u001b[38;5;66;03m# Check if chunks have the required attributes\u001b[39;00m\n",
      "\u001b[31mAttributeError\u001b[39m: 'str' object has no attribute 'start_index'",
      "\nDuring handling of the above exception, another exception occurred:\n",
      "\u001b[31mValueError\u001b[39m                                Traceback (most recent call last)",
      "\u001b[36mCell\u001b[39m\u001b[36m \u001b[39m\u001b[32mIn[3]\u001b[39m\u001b[32m, line 3\u001b[39m\n\u001b[32m      1\u001b[39m \u001b[38;5;28;01mfrom\u001b[39;00m\u001b[38;5;250m \u001b[39m\u001b[34;01mchonkie\u001b[39;00m\u001b[38;5;250m \u001b[39m\u001b[38;5;28;01mimport\u001b[39;00m Visualizer\n\u001b[32m      2\u001b[39m viz = Visualizer()\n\u001b[32m----> \u001b[39m\u001b[32m3\u001b[39m \u001b[43mviz\u001b[49m\u001b[43m.\u001b[49m\u001b[43mprint\u001b[49m\u001b[43m(\u001b[49m\u001b[43m[\u001b[49m\u001b[43mchunk\u001b[49m\u001b[43m[\u001b[49m\u001b[33;43m\"\u001b[39;49m\u001b[33;43mcontent\u001b[39;49m\u001b[33;43m\"\u001b[39;49m\u001b[43m]\u001b[49m\u001b[43m \u001b[49m\u001b[38;5;28;43;01mfor\u001b[39;49;00m\u001b[43m \u001b[49m\u001b[43mchunk\u001b[49m\u001b[43m \u001b[49m\u001b[38;5;129;43;01min\u001b[39;49;00m\u001b[43m \u001b[49m\u001b[43mchunk_list\u001b[49m\u001b[43m]\u001b[49m\u001b[43m)\u001b[49m\n",
      "\u001b[36mFile \u001b[39m\u001b[32mc:\\code\\advais\\gpt-rag-ingestion\\.venv\\Lib\\site-packages\\chonkie\\utils\\viz.py:255\u001b[39m, in \u001b[36mVisualizer.print\u001b[39m\u001b[34m(self, chunks, full_text)\u001b[39m\n\u001b[32m    253\u001b[39m     full_text = \u001b[38;5;28mself\u001b[39m._reconstruct_text_from_chunks(chunks)\n\u001b[32m    254\u001b[39m \u001b[38;5;28;01mexcept\u001b[39;00m \u001b[38;5;167;01mAttributeError\u001b[39;00m:\n\u001b[32m--> \u001b[39m\u001b[32m255\u001b[39m     \u001b[38;5;28;01mraise\u001b[39;00m \u001b[38;5;167;01mValueError\u001b[39;00m(\u001b[33m\"\u001b[39m\u001b[33mError: Chunks must have \u001b[39m\u001b[33m'\u001b[39m\u001b[33mtext\u001b[39m\u001b[33m'\u001b[39m\u001b[33m, \u001b[39m\u001b[33m'\u001b[39m\u001b[33mstart_index\u001b[39m\u001b[33m'\u001b[39m\u001b[33m, and \u001b[39m\u001b[33m'\u001b[39m\u001b[33mend_index\u001b[39m\u001b[33m'\u001b[39m\u001b[33m attributes for automatic text reconstruction.\u001b[39m\u001b[33m\"\u001b[39m)\n\u001b[32m    256\u001b[39m \u001b[38;5;28;01mexcept\u001b[39;00m \u001b[38;5;167;01mException\u001b[39;00m \u001b[38;5;28;01mas\u001b[39;00m e:\n\u001b[32m    257\u001b[39m     \u001b[38;5;28;01mraise\u001b[39;00m \u001b[38;5;167;01mValueError\u001b[39;00m(\u001b[33mf\u001b[39m\u001b[33m\"\u001b[39m\u001b[33mError reconstructing full text: \u001b[39m\u001b[38;5;132;01m{\u001b[39;00me\u001b[38;5;132;01m}\u001b[39;00m\u001b[33m\"\u001b[39m)\n",
      "\u001b[31mValueError\u001b[39m: Error: Chunks must have 'text', 'start_index', and 'end_index' attributes for automatic text reconstruction."
     ]
    }
   ],
   "source": [
    "from chonkie import Visualizer\n",
    "viz = Visualizer()\n",
    "viz.print([chunk[\"content\"] for chunk in chunk_list])"
   ]
  },
  {
   "cell_type": "code",
   "execution_count": 5,
   "id": "93482da3",
   "metadata": {},
   "outputs": [
    {
     "name": "stdout",
     "output_type": "stream",
     "text": [
      "Loaded document containing 151795 lines from c:\\code\\advais\\gpt-rag-ingestion\\debug_outputs\\023149_6306-X2OMNIInstructionManual.pdf_complete_document.md\n"
     ]
    }
   ],
   "source": [
    "from pathlib import Path\n",
    "import json\n",
    "project_root_path = Path().cwd() / \"023149_6306-X2OMNIInstructionManual.pdf_complete_document.md\"\n",
    "\n",
    "with project_root_path.open(\"r\", encoding=\"utf-8\") as f:\n",
    "    document_content = f.read()\n",
    "\n",
    "print(f\"Loaded document containing {len(document_content)} characters from {project_root_path}\")"
   ]
  },
  {
   "cell_type": "code",
   "execution_count": 7,
   "id": "d0475bef",
   "metadata": {},
   "outputs": [
    {
     "ename": "ValueError",
     "evalue": "Chunk text not found in document: <figure>\n\nECOVACS\n\n</figure>\n\n...",
     "output_type": "error",
     "traceback": [
      "\u001b[31m---------------------------------------------------------------------------\u001b[39m",
      "\u001b[31mValueError\u001b[39m                                Traceback (most recent call last)",
      "\u001b[36mCell\u001b[39m\u001b[36m \u001b[39m\u001b[32mIn[7]\u001b[39m\u001b[32m, line 13\u001b[39m\n\u001b[32m     11\u001b[39m     start_index = document_content.find(text)\n\u001b[32m     12\u001b[39m     \u001b[38;5;28;01mif\u001b[39;00m start_index == -\u001b[32m1\u001b[39m:\n\u001b[32m---> \u001b[39m\u001b[32m13\u001b[39m         \u001b[38;5;28;01mraise\u001b[39;00m \u001b[38;5;167;01mValueError\u001b[39;00m(\u001b[33mf\u001b[39m\u001b[33m\"\u001b[39m\u001b[33mChunk text not found in document: \u001b[39m\u001b[38;5;132;01m{\u001b[39;00mtext[:\u001b[32m30\u001b[39m]\u001b[38;5;132;01m}\u001b[39;00m\u001b[33m...\u001b[39m\u001b[33m\"\u001b[39m)\n\u001b[32m     14\u001b[39m end_index = start_index + \u001b[38;5;28mlen\u001b[39m(text)\n\u001b[32m     15\u001b[39m chunks_for_viz.append({\n\u001b[32m     16\u001b[39m     \u001b[33m'\u001b[39m\u001b[33mtext\u001b[39m\u001b[33m'\u001b[39m: text,\n\u001b[32m     17\u001b[39m     \u001b[33m'\u001b[39m\u001b[33mstart_index\u001b[39m\u001b[33m'\u001b[39m: start_index,\n\u001b[32m     18\u001b[39m     \u001b[33m'\u001b[39m\u001b[33mend_index\u001b[39m\u001b[33m'\u001b[39m: end_index\n\u001b[32m     19\u001b[39m })\n",
      "\u001b[31mValueError\u001b[39m: Chunk text not found in document: <figure>\n\nECOVACS\n\n</figure>\n\n..."
     ]
    }
   ],
   "source": [
    "# Robustly map chunk content to start/end indices in document_content\n",
    "chunks_for_viz = []\n",
    "used_indices = set()\n",
    "search_start = 0\n",
    "for chunk in chunk_list:\n",
    "    text = chunk['content']\n",
    "    # Find the next occurrence of the chunk text in document_content, starting from search_start\n",
    "    start_index = document_content.find(text, search_start)\n",
    "    if start_index == -1:\n",
    "        # If not found, try searching from the beginning (handles repeated text)\n",
    "        start_index = document_content.find(text)\n",
    "        if start_index == -1:\n",
    "            raise ValueError(f\"Chunk text not found in document: {text[:30]}...\")\n",
    "    end_index = start_index + len(text)\n",
    "    chunks_for_viz.append({\n",
    "        'text': text,\n",
    "        'start_index': start_index,\n",
    "        'end_index': end_index\n",
    "    })\n",
    "    # Move search_start forward to avoid matching the same text again\n",
    "    search_start = end_index\n",
    "\n",
    "from chonkie import Visualizer\n",
    "viz = Visualizer()\n",
    "viz.print(chunks_for_viz, full_text=document_content)"
   ]
  }
 ],
 "metadata": {
  "kernelspec": {
   "display_name": ".venv (3.11.2)",
   "language": "python",
   "name": "python3"
  },
  "language_info": {
   "codemirror_mode": {
    "name": "ipython",
    "version": 3
   },
   "file_extension": ".py",
   "mimetype": "text/x-python",
   "name": "python",
   "nbconvert_exporter": "python",
   "pygments_lexer": "ipython3",
   "version": "3.11.2"
  }
 },
 "nbformat": 4,
 "nbformat_minor": 5
}
